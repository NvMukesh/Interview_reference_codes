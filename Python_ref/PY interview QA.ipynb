{
 "cells": [
  {
   "cell_type": "code",
   "execution_count": 2,
   "metadata": {},
   "outputs": [],
   "source": [
    "import numpy as np\n",
    "import pandas as pd"
   ]
  },
  {
   "cell_type": "code",
   "execution_count": null,
   "metadata": {},
   "outputs": [],
   "source": [
    "# 1. How can you rename columns in a Pandas DataFrame?\n",
    "df.rename(columns={\"old_name\":\"new_name\"},inplace=True)"
   ]
  },
  {
   "cell_type": "code",
   "execution_count": null,
   "metadata": {},
   "outputs": [],
   "source": [
    "# 2. How can you filter rows in a Pandas DataFrame based on a condition?\n",
    "df_filtered = df[df[\"column_name\"]>10]"
   ]
  },
  {
   "cell_type": "code",
   "execution_count": null,
   "metadata": {},
   "outputs": [],
   "source": [
    "# 3. How can you merge two Pandas DataFrames?\n",
    "merged_df = pd.merge(df1,df2, on=\"column_name\")\n",
    "merged_df = pd.merge(df1,df2, on=\"column_name\",how = \"inner\")"
   ]
  },
  {
   "cell_type": "code",
   "execution_count": null,
   "metadata": {},
   "outputs": [],
   "source": [
    "# 4. How can you reverse a list in Python?\n",
    "my_list.reverse()\n",
    "new_list = my_list[::-1]"
   ]
  },
  {
   "cell_type": "code",
   "execution_count": null,
   "metadata": {},
   "outputs": [],
   "source": [
    "# 5. How can you sort a list in Python?\n",
    "my_list.sort()\n",
    "my_list.sort(reverse=True)"
   ]
  },
  {
   "cell_type": "code",
   "execution_count": null,
   "metadata": {},
   "outputs": [],
   "source": [
    "# 6. How can you add a new key-value pair to a dictionary in Python?\n",
    "my_dict[\"new_key\"] = \"new_value\""
   ]
  },
  {
   "cell_type": "code",
   "execution_count": null,
   "metadata": {},
   "outputs": [],
   "source": [
    "# 7. How can you remove a key-value pair from a dictionary in Python?\n",
    "my_dict.pop(\"key_that_is_to_be_removed\")"
   ]
  },
  {
   "cell_type": "code",
   "execution_count": null,
   "metadata": {},
   "outputs": [],
   "source": [
    "# 8. How can you handle missing values in a Pandas DataFrame?\n",
    "df.fillna(value, inplace =True)"
   ]
  },
  {
   "cell_type": "code",
   "execution_count": null,
   "metadata": {},
   "outputs": [],
   "source": [
    "# 9. How can you group data in a Pandas DataFrame?\n",
    "grouped_df = df.groupby(\"column_name\")"
   ]
  },
  {
   "cell_type": "code",
   "execution_count": null,
   "metadata": {},
   "outputs": [],
   "source": [
    "# 10. How can you pivot a Pandas DataFrame?\n",
    "pivot_df = df.pivot(index=\"index_column_name\",columns=\"column_name\",values=\"value_column_name\")"
   ]
  },
  {
   "cell_type": "code",
   "execution_count": null,
   "metadata": {},
   "outputs": [],
   "source": [
    "# 11. How can you remove duplicates from a list in Python?\n",
    "new_list = list(set(my_list))"
   ]
  },
  {
   "cell_type": "code",
   "execution_count": null,
   "metadata": {},
   "outputs": [],
   "source": [
    "# 12. How can you count the occurrences of an item in a list in Python?\n",
    "count = mylist.count(item)"
   ]
  },
  {
   "cell_type": "code",
   "execution_count": null,
   "metadata": {},
   "outputs": [],
   "source": [
    "# 13. How can you calculate descriptive statistics for a Pandas DataFrame?\n",
    "df.describe()"
   ]
  },
  {
   "cell_type": "code",
   "execution_count": null,
   "metadata": {},
   "outputs": [],
   "source": [
    "# 14. How can you create a new column in a Pandas DataFrame based on the values in other columns?\n",
    "df[\"new_column_name\"] = df[\"column_name1\"] + df[\"column_name2\"]"
   ]
  },
  {
   "cell_type": "code",
   "execution_count": null,
   "metadata": {},
   "outputs": [],
   "source": [
    "# 15. How can you apply a function to a Pandas DataFrame?\n",
    "df.apply(function_name, axis=1)"
   ]
  },
  {
   "cell_type": "code",
   "execution_count": null,
   "metadata": {},
   "outputs": [],
   "source": [
    "# 16. How can you iterate over the keys and values of a dictionary in Python?\n",
    "for key,value in my_dict.items():\n",
    "    print(key,value)"
   ]
  },
  {
   "cell_type": "code",
   "execution_count": null,
   "metadata": {},
   "outputs": [],
   "source": [
    "# 17. How can you create a dictionary from two lists in Python?\n",
    "my_dict = dict(zip(keys_list, values_list))"
   ]
  },
  {
   "cell_type": "code",
   "execution_count": null,
   "metadata": {},
   "outputs": [],
   "source": [
    "# 18. How can you check if a list is empty in Python?\n",
    "if not my_list:\n",
    "    print(\"the list is empty\")"
   ]
  },
  {
   "cell_type": "code",
   "execution_count": null,
   "metadata": {},
   "outputs": [],
   "source": [
    "# 19. How can you get the index of an item in a list in Python?\n",
    "index = my_list.index(item)"
   ]
  },
  {
   "cell_type": "code",
   "execution_count": null,
   "metadata": {},
   "outputs": [],
   "source": [
    "# 20. How can you check if a key exists in a dictionary in Python?\n",
    "if \"key\" in my_dict:\n",
    "    print(\"The keys exist\")"
   ]
  },
  {
   "cell_type": "code",
   "execution_count": null,
   "metadata": {},
   "outputs": [],
   "source": [
    "# 21. How can you get the values of a dictionary in Python?\n",
    "values = my_dict.values()"
   ]
  },
  {
   "cell_type": "code",
   "execution_count": null,
   "metadata": {},
   "outputs": [],
   "source": [
    "# 22. Write a function that takes a list of numbers as input and returns the sum of all even numbers in the list.\n",
    "def eum_even_numbers(numbers):\n",
    "    return (sum(num for num in numbers if num % 2 ==0))"
   ]
  },
  {
   "cell_type": "code",
   "execution_count": null,
   "metadata": {},
   "outputs": [],
   "source": [
    "# 23. Write a function that takes a string as input and returns the reverse of the string.\n",
    "def reverse_string(string):\n",
    "    return string[::-1]"
   ]
  },
  {
   "cell_type": "code",
   "execution_count": 8,
   "metadata": {},
   "outputs": [],
   "source": [
    "# 24. Write a function that takes a list of strings as input and returns the longest string in the list.\n",
    "def find_longest_string(strings):\n",
    "    return max(strings, key=len)"
   ]
  },
  {
   "cell_type": "code",
   "execution_count": 15,
   "metadata": {},
   "outputs": [],
   "source": [
    "# 25. Write a function that takes a list of integers as input and returns the maximum product\n",
    "# that can be obtained by multiplying any three integers in the list.\n",
    "from itertools import combinations\n",
    "\n",
    "def max_product(numbers):\n",
    "    max_product = float(\"-inf\")\n",
    "    for comb in combinations(numbers, 3):\n",
    "        product = comb[0] * comb[1] * comb[2]\n",
    "        max_product = max(max_product, product)\n",
    "    return max_product"
   ]
  },
  {
   "cell_type": "code",
   "execution_count": null,
   "metadata": {},
   "outputs": [],
   "source": [
    "# 26. Write a function that takes a list of integers as input and returns the second largest integer in the list.\n",
    "def find_second_largest(numbers):\n",
    "    numbers = list(set(numbers))\n",
    "    if len(numbers) < 2:\n",
    "        return None\n",
    "    numbers.sort()\n",
    "    return numbers[-2]"
   ]
  },
  {
   "cell_type": "code",
   "execution_count": 16,
   "metadata": {},
   "outputs": [],
   "source": [
    "# 27. Write a function that takes a list of strings as input and returns a new list\n",
    "# containing only the strings that start with a vowel (a, e, i, o, u).\n",
    "def filter_vowel_string(strings):\n",
    "    vowels = [\"a\",\"e\",\"i\",\"o\",\"u\"]\n",
    "    return[string for string in strings if string[0].lower() in vowels]"
   ]
  },
  {
   "cell_type": "code",
   "execution_count": 17,
   "metadata": {},
   "outputs": [],
   "source": [
    "# 28. Write a function that takes a string as input and returns True if the string is a\n",
    "# palindrome (reads the same forwards and backwards), and False otherwise.\n",
    "def is_palindrome(string):\n",
    "    return string == string[::-1]"
   ]
  },
  {
   "cell_type": "code",
   "execution_count": 18,
   "metadata": {},
   "outputs": [],
   "source": [
    "# 29. Write a function that takes a list of integers as input and returns a new list\n",
    "# containing only the prime numbers in the input list.\n",
    "def filter_prime_number(numbers):\n",
    "    def is_prime(n):\n",
    "        if n < 2:\n",
    "            return False\n",
    "        for i in range(2, int(n ** 0.5) + 1):\n",
    "            return False\n",
    "        return True\n",
    "    return [num for num in numbers if is_prime(num)]"
   ]
  },
  {
   "cell_type": "code",
   "execution_count": null,
   "metadata": {},
   "outputs": [],
   "source": [
    "# 30. Write a function that takes a list of integers as input and returns the median value of the list.\n",
    "def find_median(numbers):\n",
    "    numbers.sort()\n",
    "    n = len(numbers)\n",
    "    if n % 2 == 0 :\n",
    "        return (numbers[n // 2] + numbers[n // 2 - 1]) / 2\n",
    "    else:\n",
    "        return numbers[n // 2]"
   ]
  },
  {
   "cell_type": "code",
   "execution_count": 19,
   "metadata": {},
   "outputs": [],
   "source": [
    "# 31. Write a function that takes a string as input and returns the most common character in the string.\n",
    "from collections import Counter\n",
    "\n",
    "def most_common_character(string):\n",
    "    counter = Counter(string)\n",
    "    return counter.most_common(1)[0][0]"
   ]
  },
  {
   "cell_type": "code",
   "execution_count": null,
   "metadata": {},
   "outputs": [],
   "source": [
    "# 32. Write a function that takes two strings as input and returns True if they are anagrams (contain the same letters in a different order), and False otherwise.\n",
    "def is_anagram(string1, string2):\n",
    "    return sorted(string1) == sorted(string2)"
   ]
  },
  {
   "cell_type": "code",
   "execution_count": 20,
   "metadata": {},
   "outputs": [],
   "source": [
    "# 33. Write a function that takes a list of integers as input and returns a new list containing only the even numbers in the input list, in the order they appear.\n",
    "def filter_even_numbers(numbers):\n",
    "    return [num for num in numbers if num % 2 == 0]"
   ]
  },
  {
   "cell_type": "code",
   "execution_count": 21,
   "metadata": {},
   "outputs": [],
   "source": [
    "# 34. Write a function that takes a list of strings as input and returns a new list containing the length of each string in the input list.\n",
    "def get_string_lengths(strings):\n",
    "    return [len(string) for string in strings]"
   ]
  },
  {
   "cell_type": "code",
   "execution_count": 24,
   "metadata": {},
   "outputs": [],
   "source": [
    "# 35. Write a function that takes a list of integers as input and returns a new list containing the cumulative sum of the input list.\n",
    "def cumulative_sum(numbers):\n",
    "    return [sum(numbers[:i+1]) for i in range(len(numbers))]"
   ]
  },
  {
   "cell_type": "code",
   "execution_count": null,
   "metadata": {},
   "outputs": [],
   "source": [
    "# 36. Write a function that takes a list of strings as input and returns a new list containing the strings in reverse order.\n",
    "def reverse_list_of_strings(strings):\n",
    "    return strings[::-1]"
   ]
  },
  {
   "cell_type": "code",
   "execution_count": 25,
   "metadata": {},
   "outputs": [],
   "source": [
    "# 37. Write a function that takes a string as input and returns a new string with all vowels removed.\n",
    "def remove_vowels(string):\n",
    "    vowels = [\"a\",\"e\",\"i\",\"o\",\"u\"]\n",
    "    return \"\".join(char for char in string if char.lower() not in vowels)"
   ]
  },
  {
   "cell_type": "code",
   "execution_count": 27,
   "metadata": {},
   "outputs": [],
   "source": [
    "# 38. Write a function that takes a list of integers as input and returns True if the list is sorted in non-descending order (i.e., each element is greater than or equal to the previous element), and False otherwise.\n",
    "def is_sorted(numbers):\n",
    "    return all(numbers[i] <= numbers[i+1] for i in range(len(numbers)-1))"
   ]
  },
  {
   "cell_type": "code",
   "execution_count": 28,
   "metadata": {},
   "outputs": [],
   "source": [
    "# 39. Write a function that takes a list of integers as input and returns a new list containing the same integers, but with any duplicates removed.\n",
    "def remove_duplicates(numbers):\n",
    "    return list(set(numbers))"
   ]
  },
  {
   "cell_type": "code",
   "execution_count": null,
   "metadata": {},
   "outputs": [],
   "source": [
    "# 40. Write a function that takes a string as input and returns a new string with the first letter of each word capitalized.\n",
    "def capitalize_words(string):\n",
    "    return \" \".join(word.capitalize() for word in string.split())"
   ]
  },
  {
   "cell_type": "code",
   "execution_count": 29,
   "metadata": {},
   "outputs": [],
   "source": [
    "# 41. Write a function that takes a list of strings as input and returns a new list containing only the unique strings in the input list, in the order they appear.\n",
    "def get_unique_strings(strings):\n",
    "    unique_strings = []\n",
    "    for string in strings:\n",
    "        if string not in unique_strings:\n",
    "            unique_strings.append(string)\n",
    "    return unique_strings"
   ]
  },
  {
   "cell_type": "code",
   "execution_count": 30,
   "metadata": {},
   "outputs": [],
   "source": [
    "# 42. Write a function that takes a list of integers as input and returns a new list containing the same integers, but sorted in non-descending order (i.e., each element is greater than or equal to the previous element).\n",
    "def sorted_numbers(numbers):\n",
    "    return sorted(numbers)"
   ]
  },
  {
   "cell_type": "code",
   "execution_count": 31,
   "metadata": {},
   "outputs": [],
   "source": [
    "# 43. Write a function that takes a list of integers as input and returns the largest sum of any consecutive subsequence of the input list.\n",
    "def max_subsequence_sum(numbers):\n",
    "    max_sum = 0\n",
    "    current_sum = 0\n",
    "    for num in  numbers:\n",
    "        current_sum += num\n",
    "        max_sum = max(max_sum, current_sum)\n",
    "        current_sum = max(current_sum, 0)\n",
    "    return max_sum"
   ]
  },
  {
   "cell_type": "code",
   "execution_count": 32,
   "metadata": {},
   "outputs": [],
   "source": [
    "# 44. Write a function that takes a list of integers as input and returns a new list containing only the numbers that appear more than once in the input list.\n",
    "def get_duplicate_numbers(numbers):\n",
    "    return [num for num in set(numbers) if numbers.count(num) > 1]"
   ]
  },
  {
   "cell_type": "code",
   "execution_count": 33,
   "metadata": {},
   "outputs": [],
   "source": [
    "# 45.Write a function that takes a list of integers as input and returns a new list containing the product of all the integers in the input list except for the integer at the corresponding index.\n",
    "def get_products_except_at_index(numbers):\n",
    "    products = []\n",
    "    product_so_far = 1\n",
    "    for num in numbers:\n",
    "        products.append(product_so_far)\n",
    "        product_so_far *= num\n",
    "    product_so_far = 1\n",
    "    for i in range(len(numbers)-1, -1, -1):\n",
    "        products[i] *= product_so_far\n",
    "        product_so_far *= numbers[i]\n",
    "    return products"
   ]
  },
  {
   "cell_type": "code",
   "execution_count": null,
   "metadata": {},
   "outputs": [],
   "source": [
    "# 46. Write a function that takes a list of strings as input and returns the most common string in the input list.\n",
    "def get_most_common_string(strings):\n",
    "    return max(string, key=strings.count)"
   ]
  },
  {
   "cell_type": "code",
   "execution_count": 34,
   "metadata": {},
   "outputs": [],
   "source": [
    "# 47. Write a function that takes a list of integers as input and returns True if any two integers in the input list add up to a specified target integer, and False otherwise.\n",
    "def has_sum(numbers, target):\n",
    "    seen_numbers = set()\n",
    "    for num in numbers:\n",
    "        if target - num in seen_numbers:\n",
    "            return True\n",
    "        seen_numbers.add(num)\n",
    "    return False"
   ]
  },
  {
   "cell_type": "code",
   "execution_count": null,
   "metadata": {},
   "outputs": [],
   "source": [
    "# 48. Write a function that takes a list of integers as input and returns a new list containing the same integers, but with all duplicates except the first removed.\n",
    "def remove_duplicate_number_keep_first(numbers):\n",
    "    unique_numbers = []\n",
    "    seen_numbers = set()\n",
    "    for num in numbers:\n",
    "        if num not in seen_numbers:\n",
    "            unique_numbers.append(num)\n",
    "            seen_numbers.add(num)\n",
    "    return unique_numbers"
   ]
  },
  {
   "cell_type": "code",
   "execution_count": null,
   "metadata": {},
   "outputs": [],
   "source": [
    "# 49. Write a function that takes a list of integers as input and returns a new list containing the same integers, but with all duplicates except the last removed.\n",
    "def remove_duplicate_numbers_keep_last(numbers):\n",
    "    unique_numbers = []\n",
    "    seen_numbers = []\n",
    "    for num in reversed(numbers):\n",
    "        if num not in seen_numbers:\n",
    "            unique_numbers.insert(0, num)\n",
    "            seen_numbers.add(num)\n",
    "    return unique_numbers"
   ]
  },
  {
   "cell_type": "code",
   "execution_count": null,
   "metadata": {},
   "outputs": [],
   "source": [
    "# Write a function that takes a list of integers as input and returns a new list containing the same integers, but with any odd numbers removed.\n",
    "def remove_odd_numbers(numbers):\n",
    "    return[num for num in numbers if num % 2 ==0]\n",
    "\n",
    "for i in numbers:\n",
    "    if i % 2 == 0\n",
    "    return i "
   ]
  },
  {
   "cell_type": "code",
   "execution_count": null,
   "metadata": {},
   "outputs": [],
   "source": []
  },
  {
   "cell_type": "code",
   "execution_count": null,
   "metadata": {},
   "outputs": [],
   "source": []
  },
  {
   "cell_type": "code",
   "execution_count": null,
   "metadata": {},
   "outputs": [],
   "source": []
  },
  {
   "cell_type": "code",
   "execution_count": null,
   "metadata": {},
   "outputs": [],
   "source": []
  },
  {
   "cell_type": "code",
   "execution_count": null,
   "metadata": {},
   "outputs": [],
   "source": []
  },
  {
   "cell_type": "code",
   "execution_count": null,
   "metadata": {},
   "outputs": [],
   "source": []
  },
  {
   "cell_type": "code",
   "execution_count": null,
   "metadata": {},
   "outputs": [],
   "source": []
  },
  {
   "cell_type": "code",
   "execution_count": null,
   "metadata": {},
   "outputs": [],
   "source": []
  },
  {
   "cell_type": "code",
   "execution_count": null,
   "metadata": {},
   "outputs": [],
   "source": []
  },
  {
   "cell_type": "code",
   "execution_count": null,
   "metadata": {},
   "outputs": [],
   "source": []
  },
  {
   "cell_type": "code",
   "execution_count": null,
   "metadata": {},
   "outputs": [],
   "source": []
  },
  {
   "cell_type": "code",
   "execution_count": null,
   "metadata": {},
   "outputs": [],
   "source": []
  },
  {
   "cell_type": "code",
   "execution_count": null,
   "metadata": {},
   "outputs": [],
   "source": []
  },
  {
   "cell_type": "code",
   "execution_count": null,
   "metadata": {},
   "outputs": [],
   "source": []
  },
  {
   "cell_type": "code",
   "execution_count": null,
   "metadata": {},
   "outputs": [],
   "source": []
  },
  {
   "cell_type": "code",
   "execution_count": null,
   "metadata": {},
   "outputs": [],
   "source": []
  },
  {
   "cell_type": "code",
   "execution_count": null,
   "metadata": {},
   "outputs": [],
   "source": []
  },
  {
   "cell_type": "code",
   "execution_count": null,
   "metadata": {},
   "outputs": [],
   "source": []
  },
  {
   "cell_type": "code",
   "execution_count": null,
   "metadata": {},
   "outputs": [],
   "source": []
  },
  {
   "cell_type": "code",
   "execution_count": null,
   "metadata": {},
   "outputs": [],
   "source": []
  }
 ],
 "metadata": {
  "kernelspec": {
   "display_name": "base",
   "language": "python",
   "name": "python3"
  },
  "language_info": {
   "codemirror_mode": {
    "name": "ipython",
    "version": 3
   },
   "file_extension": ".py",
   "mimetype": "text/x-python",
   "name": "python",
   "nbconvert_exporter": "python",
   "pygments_lexer": "ipython3",
   "version": "3.9.12"
  },
  "orig_nbformat": 4
 },
 "nbformat": 4,
 "nbformat_minor": 2
}
